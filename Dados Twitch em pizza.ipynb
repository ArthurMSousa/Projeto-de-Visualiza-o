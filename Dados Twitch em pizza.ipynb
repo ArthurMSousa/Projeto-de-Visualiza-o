{
 "cells": [
  {
   "cell_type": "code",
   "execution_count": 1,
   "id": "720aa191",
   "metadata": {},
   "outputs": [],
   "source": [
    "import pandas as pd\n",
    "import matplotlib.pyplot as plt\n",
    "import numpy as np"
   ]
  },
  {
   "cell_type": "code",
   "execution_count": 2,
   "id": "a7c7e60d",
   "metadata": {},
   "outputs": [],
   "source": [
    "dados = pd.read_csv('C:\\\\Users\\\\arthu\\\\Downloads\\\\Datasets\\\\archive0\\\\Twitchdata.csv')"
   ]
  },
  {
   "cell_type": "code",
   "execution_count": 9,
   "id": "c27bccfa",
   "metadata": {},
   "outputs": [
    {
     "data": {
      "text/html": [
       "<div>\n",
       "<style scoped>\n",
       "    .dataframe tbody tr th:only-of-type {\n",
       "        vertical-align: middle;\n",
       "    }\n",
       "\n",
       "    .dataframe tbody tr th {\n",
       "        vertical-align: top;\n",
       "    }\n",
       "\n",
       "    .dataframe thead th {\n",
       "        text-align: right;\n",
       "    }\n",
       "</style>\n",
       "<table border=\"1\" class=\"dataframe\">\n",
       "  <thead>\n",
       "    <tr style=\"text-align: right;\">\n",
       "      <th></th>\n",
       "      <th>Canal</th>\n",
       "      <th>Tempo assistido em minutos</th>\n",
       "      <th>Tempo de transmissão em minutos</th>\n",
       "      <th>Pico de espectadores</th>\n",
       "      <th>Média de visualizações</th>\n",
       "      <th>Seguidores do canal</th>\n",
       "      <th>Parceiro da twitch</th>\n",
       "      <th>Conteúdo adulto</th>\n",
       "      <th>Idioma</th>\n",
       "    </tr>\n",
       "  </thead>\n",
       "  <tbody>\n",
       "    <tr>\n",
       "      <th>0</th>\n",
       "      <td>xQcOW</td>\n",
       "      <td>6196161750</td>\n",
       "      <td>215250</td>\n",
       "      <td>222720</td>\n",
       "      <td>27716</td>\n",
       "      <td>3246298</td>\n",
       "      <td>True</td>\n",
       "      <td>False</td>\n",
       "      <td>English</td>\n",
       "    </tr>\n",
       "    <tr>\n",
       "      <th>1</th>\n",
       "      <td>summit1g</td>\n",
       "      <td>6091677300</td>\n",
       "      <td>211845</td>\n",
       "      <td>310998</td>\n",
       "      <td>25610</td>\n",
       "      <td>5310163</td>\n",
       "      <td>True</td>\n",
       "      <td>False</td>\n",
       "      <td>English</td>\n",
       "    </tr>\n",
       "    <tr>\n",
       "      <th>2</th>\n",
       "      <td>Gaules</td>\n",
       "      <td>5644590915</td>\n",
       "      <td>515280</td>\n",
       "      <td>387315</td>\n",
       "      <td>10976</td>\n",
       "      <td>1767635</td>\n",
       "      <td>True</td>\n",
       "      <td>True</td>\n",
       "      <td>Portuguese</td>\n",
       "    </tr>\n",
       "    <tr>\n",
       "      <th>3</th>\n",
       "      <td>ESL_CSGO</td>\n",
       "      <td>3970318140</td>\n",
       "      <td>517740</td>\n",
       "      <td>300575</td>\n",
       "      <td>7714</td>\n",
       "      <td>3944850</td>\n",
       "      <td>True</td>\n",
       "      <td>False</td>\n",
       "      <td>English</td>\n",
       "    </tr>\n",
       "    <tr>\n",
       "      <th>4</th>\n",
       "      <td>Tfue</td>\n",
       "      <td>3671000070</td>\n",
       "      <td>123660</td>\n",
       "      <td>285644</td>\n",
       "      <td>29602</td>\n",
       "      <td>8938903</td>\n",
       "      <td>True</td>\n",
       "      <td>False</td>\n",
       "      <td>English</td>\n",
       "    </tr>\n",
       "  </tbody>\n",
       "</table>\n",
       "</div>"
      ],
      "text/plain": [
       "      Canal  Tempo assistido em minutos  Tempo de transmissão em minutos  \\\n",
       "0     xQcOW                  6196161750                           215250   \n",
       "1  summit1g                  6091677300                           211845   \n",
       "2    Gaules                  5644590915                           515280   \n",
       "3  ESL_CSGO                  3970318140                           517740   \n",
       "4      Tfue                  3671000070                           123660   \n",
       "\n",
       "   Pico de espectadores  Média de visualizações  Seguidores do canal  \\\n",
       "0                222720                   27716              3246298   \n",
       "1                310998                   25610              5310163   \n",
       "2                387315                   10976              1767635   \n",
       "3                300575                    7714              3944850   \n",
       "4                285644                   29602              8938903   \n",
       "\n",
       "   Parceiro da twitch  Conteúdo adulto      Idioma  \n",
       "0                True            False     English  \n",
       "1                True            False     English  \n",
       "2                True             True  Portuguese  \n",
       "3                True            False     English  \n",
       "4                True            False     English  "
      ]
     },
     "execution_count": 9,
     "metadata": {},
     "output_type": "execute_result"
    }
   ],
   "source": [
    "dados.head()"
   ]
  },
  {
   "cell_type": "code",
   "execution_count": 5,
   "id": "69201f74",
   "metadata": {},
   "outputs": [],
   "source": [
    "dados.rename(columns={'Channel':'Canal','Watch time(Minutes)':'Tempo assistido em minutos','Stream time(minutes)':'Tempo de transmissão em minutos','Peak viewers':'Pico de espectadores','Average viewers':'Média de visualizações','Followers':'Seguidores do canal','Followers gained':'Seguidores recebidos','Views gained':'Visualizações recebidas','Partnered':'Parceiro da twitch','Mature':'Conteúdo adulto','Language':'Idioma'}, inplace=True)"
   ]
  },
  {
   "cell_type": "code",
   "execution_count": 8,
   "id": "3333082b",
   "metadata": {},
   "outputs": [],
   "source": [
    "dados.drop('Seguidores recebidos', axis = 1, inplace=True)\n",
    "dados.drop('Visualizações recebidas', axis = 1, inplace=True)"
   ]
  },
  {
   "cell_type": "code",
   "execution_count": 10,
   "id": "9d33d1d3",
   "metadata": {},
   "outputs": [],
   "source": [
    "idiomas = dados['Idioma'].unique()"
   ]
  },
  {
   "cell_type": "code",
   "execution_count": 13,
   "id": "9be6fd4f",
   "metadata": {},
   "outputs": [],
   "source": [
    "dados_media_views = dados.groupby(['Idioma'])['Média de visualizações'].sum().nlargest(5).reset_index()"
   ]
  },
  {
   "cell_type": "code",
   "execution_count": 14,
   "id": "4e27e75f",
   "metadata": {
    "scrolled": true
   },
   "outputs": [
    {
     "data": {
      "text/plain": [
       "Text(0.5, 1.0, 'Top 5 visualizações por idioma')"
      ]
     },
     "execution_count": 14,
     "metadata": {},
     "output_type": "execute_result"
    },
    {
     "data": {
      "image/png": "[encoded data removed]",
      "text/plain": [
       "<Figure size 1152x648 with 1 Axes>"
      ]
     },
     "metadata": {},
     "output_type": "display_data"
    }
   ],
   "source": [
    "fig, ax = plt.subplots(nrows=1, ncols=1, figsize=(16,9),  )\n",
    "ax.pie(dados_media_views['Média de visualizações'], labels=dados_media_views['Idioma'], autopct='%1.2f%%', shadow=True, startangle=90);\n",
    "ax.set_title('Top 5 visualizações por idioma')"
   ]
  },
  {
   "cell_type": "code",
   "execution_count": null,
   "id": "520bc505",
   "metadata": {},
   "outputs": [],
   "source": []
  }
 ],
 "metadata": {
  "kernelspec": {
   "display_name": "Python 3 (ipykernel)",
   "language": "python",
   "name": "python3"
  },
  "language_info": {
   "codemirror_mode": {
    "name": "ipython",
    "version": 3
   },
   "file_extension": ".py",
   "mimetype": "text/x-python",
   "name": "python",
   "nbconvert_exporter": "python",
   "pygments_lexer": "ipython3",
   "version": "3.9.12"
  }
 },
 "nbformat": 4,
 "nbformat_minor": 5
}
