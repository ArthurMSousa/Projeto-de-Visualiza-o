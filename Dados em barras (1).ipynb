{
 "cells": [
  {
   "cell_type": "code",
   "execution_count": 1,
   "id": "e2ea63a4",
   "metadata": {},
   "outputs": [],
   "source": [
    "import pandas as pd\n",
    "import matplotlib.pyplot as plt\n",
    "import numpy as np\n",
    "\n",
    "dados = pd.read_csv('C:\\\\Users\\\\arthu\\\\Downloads\\\\Datasets\\\\archive0\\\\Twitchdata.csv')"
   ]
  },
  {
   "cell_type": "code",
   "execution_count": 6,
   "id": "98e125cf",
   "metadata": {},
   "outputs": [
    {
     "data": {
      "text/html": [
       "<div>\n",
       "<style scoped>\n",
       "    .dataframe tbody tr th:only-of-type {\n",
       "        vertical-align: middle;\n",
       "    }\n",
       "\n",
       "    .dataframe tbody tr th {\n",
       "        vertical-align: top;\n",
       "    }\n",
       "\n",
       "    .dataframe thead th {\n",
       "        text-align: right;\n",
       "    }\n",
       "</style>\n",
       "<table border=\"1\" class=\"dataframe\">\n",
       "  <thead>\n",
       "    <tr style=\"text-align: right;\">\n",
       "      <th></th>\n",
       "      <th>Canal</th>\n",
       "      <th>Tempo assistido em minutos</th>\n",
       "      <th>Tempo de transmissão em minutos</th>\n",
       "      <th>Pico de espectadores</th>\n",
       "      <th>Média de visualizações</th>\n",
       "      <th>Seguidores do canal</th>\n",
       "      <th>Parceiro da twitch</th>\n",
       "      <th>Conteúdo adulto</th>\n",
       "      <th>Idioma</th>\n",
       "    </tr>\n",
       "  </thead>\n",
       "  <tbody>\n",
       "    <tr>\n",
       "      <th>0</th>\n",
       "      <td>xQcOW</td>\n",
       "      <td>6196161750</td>\n",
       "      <td>215250</td>\n",
       "      <td>222720</td>\n",
       "      <td>27716</td>\n",
       "      <td>3246298</td>\n",
       "      <td>True</td>\n",
       "      <td>False</td>\n",
       "      <td>English</td>\n",
       "    </tr>\n",
       "    <tr>\n",
       "      <th>1</th>\n",
       "      <td>summit1g</td>\n",
       "      <td>6091677300</td>\n",
       "      <td>211845</td>\n",
       "      <td>310998</td>\n",
       "      <td>25610</td>\n",
       "      <td>5310163</td>\n",
       "      <td>True</td>\n",
       "      <td>False</td>\n",
       "      <td>English</td>\n",
       "    </tr>\n",
       "    <tr>\n",
       "      <th>2</th>\n",
       "      <td>Gaules</td>\n",
       "      <td>5644590915</td>\n",
       "      <td>515280</td>\n",
       "      <td>387315</td>\n",
       "      <td>10976</td>\n",
       "      <td>1767635</td>\n",
       "      <td>True</td>\n",
       "      <td>True</td>\n",
       "      <td>Portuguese</td>\n",
       "    </tr>\n",
       "    <tr>\n",
       "      <th>3</th>\n",
       "      <td>ESL_CSGO</td>\n",
       "      <td>3970318140</td>\n",
       "      <td>517740</td>\n",
       "      <td>300575</td>\n",
       "      <td>7714</td>\n",
       "      <td>3944850</td>\n",
       "      <td>True</td>\n",
       "      <td>False</td>\n",
       "      <td>English</td>\n",
       "    </tr>\n",
       "    <tr>\n",
       "      <th>4</th>\n",
       "      <td>Tfue</td>\n",
       "      <td>3671000070</td>\n",
       "      <td>123660</td>\n",
       "      <td>285644</td>\n",
       "      <td>29602</td>\n",
       "      <td>8938903</td>\n",
       "      <td>True</td>\n",
       "      <td>False</td>\n",
       "      <td>English</td>\n",
       "    </tr>\n",
       "  </tbody>\n",
       "</table>\n",
       "</div>"
      ],
      "text/plain": [
       "      Canal  Tempo assistido em minutos  Tempo de transmissão em minutos  \\\n",
       "0     xQcOW                  6196161750                           215250   \n",
       "1  summit1g                  6091677300                           211845   \n",
       "2    Gaules                  5644590915                           515280   \n",
       "3  ESL_CSGO                  3970318140                           517740   \n",
       "4      Tfue                  3671000070                           123660   \n",
       "\n",
       "   Pico de espectadores  Média de visualizações  Seguidores do canal  \\\n",
       "0                222720                   27716              3246298   \n",
       "1                310998                   25610              5310163   \n",
       "2                387315                   10976              1767635   \n",
       "3                300575                    7714              3944850   \n",
       "4                285644                   29602              8938903   \n",
       "\n",
       "   Parceiro da twitch  Conteúdo adulto      Idioma  \n",
       "0                True            False     English  \n",
       "1                True            False     English  \n",
       "2                True             True  Portuguese  \n",
       "3                True            False     English  \n",
       "4                True            False     English  "
      ]
     },
     "execution_count": 6,
     "metadata": {},
     "output_type": "execute_result"
    }
   ],
   "source": [
    "dados.head()"
   ]
  },
  {
   "cell_type": "code",
   "execution_count": 3,
   "id": "4e55652f",
   "metadata": {},
   "outputs": [],
   "source": [
    "dados.rename(columns={'Channel':'Canal','Watch time(Minutes)':'Tempo assistido em minutos','Stream time(minutes)':'Tempo de transmissão em minutos','Peak viewers':'Pico de espectadores','Average viewers':'Média de visualizações','Followers':'Seguidores do canal','Followers gained':'Seguidores recebidos','Views gained':'Visualizações recebidas','Partnered':'Parceiro da twitch','Mature':'Conteúdo adulto','Language':'Idioma'}, inplace=True)"
   ]
  },
  {
   "cell_type": "code",
   "execution_count": 5,
   "id": "68a063b7",
   "metadata": {},
   "outputs": [],
   "source": [
    "dados.drop('Seguidores recebidos', axis = 1, inplace=True)\n",
    "dados.drop('Visualizações recebidas', axis = 1, inplace=True)"
   ]
  },
  {
   "cell_type": "code",
   "execution_count": 22,
   "id": "f629f4e8",
   "metadata": {},
   "outputs": [],
   "source": [
    "dados_canal = dados.groupby(['Canal'])['Pico de espectadores'].max().nlargest(10).reset_index()"
   ]
  },
  {
   "cell_type": "code",
   "execution_count": 23,
   "id": "044c36a5",
   "metadata": {
    "scrolled": true
   },
   "outputs": [
    {
     "data": {
      "text/html": [
       "<div>\n",
       "<style scoped>\n",
       "    .dataframe tbody tr th:only-of-type {\n",
       "        vertical-align: middle;\n",
       "    }\n",
       "\n",
       "    .dataframe tbody tr th {\n",
       "        vertical-align: top;\n",
       "    }\n",
       "\n",
       "    .dataframe thead th {\n",
       "        text-align: right;\n",
       "    }\n",
       "</style>\n",
       "<table border=\"1\" class=\"dataframe\">\n",
       "  <thead>\n",
       "    <tr style=\"text-align: right;\">\n",
       "      <th></th>\n",
       "      <th>Canal</th>\n",
       "      <th>Pico de espectadores</th>\n",
       "    </tr>\n",
       "  </thead>\n",
       "  <tbody>\n",
       "    <tr>\n",
       "      <th>0</th>\n",
       "      <td>Riot Games (riotgames)</td>\n",
       "      <td>639375</td>\n",
       "    </tr>\n",
       "    <tr>\n",
       "      <th>1</th>\n",
       "      <td>TheGrefg</td>\n",
       "      <td>538444</td>\n",
       "    </tr>\n",
       "    <tr>\n",
       "      <th>2</th>\n",
       "      <td>dota2ti</td>\n",
       "      <td>483530</td>\n",
       "    </tr>\n",
       "    <tr>\n",
       "      <th>3</th>\n",
       "      <td>shroud</td>\n",
       "      <td>471281</td>\n",
       "    </tr>\n",
       "    <tr>\n",
       "      <th>4</th>\n",
       "      <td>dota2ti_ru</td>\n",
       "      <td>457060</td>\n",
       "    </tr>\n",
       "    <tr>\n",
       "      <th>5</th>\n",
       "      <td>Gaules</td>\n",
       "      <td>387315</td>\n",
       "    </tr>\n",
       "    <tr>\n",
       "      <th>6</th>\n",
       "      <td>csgomc_ru</td>\n",
       "      <td>364816</td>\n",
       "    </tr>\n",
       "    <tr>\n",
       "      <th>7</th>\n",
       "      <td>Warframe</td>\n",
       "      <td>346131</td>\n",
       "    </tr>\n",
       "    <tr>\n",
       "      <th>8</th>\n",
       "      <td>StarLadder_cs_en</td>\n",
       "      <td>329195</td>\n",
       "    </tr>\n",
       "    <tr>\n",
       "      <th>9</th>\n",
       "      <td>JokerdTV</td>\n",
       "      <td>319862</td>\n",
       "    </tr>\n",
       "  </tbody>\n",
       "</table>\n",
       "</div>"
      ],
      "text/plain": [
       "                    Canal  Pico de espectadores\n",
       "0  Riot Games (riotgames)                639375\n",
       "1                TheGrefg                538444\n",
       "2                 dota2ti                483530\n",
       "3                  shroud                471281\n",
       "4              dota2ti_ru                457060\n",
       "5                  Gaules                387315\n",
       "6               csgomc_ru                364816\n",
       "7                Warframe                346131\n",
       "8        StarLadder_cs_en                329195\n",
       "9                JokerdTV                319862"
      ]
     },
     "execution_count": 23,
     "metadata": {},
     "output_type": "execute_result"
    }
   ],
   "source": [
    "dados_canal"
   ]
  },
  {
   "cell_type": "code",
   "execution_count": 24,
   "id": "32596e24",
   "metadata": {},
   "outputs": [
    {
     "data": {
      "image/png": "[encoded data removed]",
      "text/plain": [
       "<Figure size 432x288 with 1 Axes>"
      ]
     },
     "metadata": {
      "needs_background": "light"
     },
     "output_type": "display_data"
    }
   ],
   "source": [
    "x = np.array(dados_canal['Canal'])\n",
    "y = np.array(dados_canal['Pico de espectadores'])\n",
    "\n",
    "plt.barh(x,y)\n",
    "plt.show()"
   ]
  },
  {
   "cell_type": "code",
   "execution_count": null,
   "id": "9cb779d9",
   "metadata": {},
   "outputs": [],
   "source": []
  }
 ],
 "metadata": {
  "kernelspec": {
   "display_name": "Python 3 (ipykernel)",
   "language": "python",
   "name": "python3"
  },
  "language_info": {
   "codemirror_mode": {
    "name": "ipython",
    "version": 3
   },
   "file_extension": ".py",
   "mimetype": "text/x-python",
   "name": "python",
   "nbconvert_exporter": "python",
   "pygments_lexer": "ipython3",
   "version": "3.9.12"
  }
 },
 "nbformat": 4,
 "nbformat_minor": 5
}
