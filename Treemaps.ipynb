{
 "cells": [
  {
   "cell_type": "code",
   "execution_count": 1,
   "id": "7651890c",
   "metadata": {},
   "outputs": [],
   "source": [
    "\n",
    "\n",
    "url = 'https://raw.githubusercontent.com/ArthurMSousa/Projeto-de-Visualiza-o/main/Twitchdata.csv'\n",
    "\n"
   ]
  },
  {
   "cell_type": "code",
   "execution_count": 3,
   "id": "fdb2d1d1",
   "metadata": {},
   "outputs": [],
   "source": [
    "import matplotlib.pyplot as plt\n",
    "import pandas as pd\n",
    "import squarify\n",
    "import numpy as np"
   ]
  },
  {
   "cell_type": "code",
   "execution_count": 9,
   "id": "512c2766",
   "metadata": {},
   "outputs": [
    {
     "name": "stdout",
     "output_type": "stream",
     "text": [
      "<class 'pandas.core.frame.DataFrame'>\n",
      "RangeIndex: 1000 entries, 0 to 999\n",
      "Data columns (total 11 columns):\n",
      " #   Column                Non-Null Count  Dtype \n",
      "---  ------                --------------  ----- \n",
      " 0   Channel               1000 non-null   object\n",
      " 1   Watch time(Minutes)   1000 non-null   int64 \n",
      " 2   Stream time(minutes)  1000 non-null   int64 \n",
      " 3   Peak viewers          1000 non-null   int64 \n",
      " 4   Average viewers       1000 non-null   int64 \n",
      " 5   Followers             1000 non-null   int64 \n",
      " 6   Followers gained      1000 non-null   int64 \n",
      " 7   Views gained          1000 non-null   int64 \n",
      " 8   Partnered             1000 non-null   bool  \n",
      " 9   Mature                1000 non-null   bool  \n",
      " 10  Language              1000 non-null   object\n",
      "dtypes: bool(2), int64(7), object(2)\n",
      "memory usage: 72.4+ KB\n"
     ]
    }
   ],
   "source": [
    "df = pd.read_csv(url, )\n",
    "\n",
    "df.info()\n",
    "\n"
   ]
  },
  {
   "cell_type": "code",
   "execution_count": 8,
   "id": "395650dc",
   "metadata": {},
   "outputs": [],
   "source": [
    "df.rename(columns={'Channel':'Canal','Watch time(Minutes)':'Tempo assistido em minutos','Stream time(minutes)':'Tempo de transmissão em minutos','Peak viewers':'Pico de espectadores','Average viewers':'Média de visualizações','Followers':'Seguidores do canal','Followers gained':'Seguidores recebidos','Views gained':'Visualizações recebidas','Partnered':'Parceiro da twitch','Mature':'Conteúdo adulto','Language':'Idioma'}, inplace=True)"
   ]
  },
  {
   "cell_type": "code",
   "execution_count": 10,
   "id": "eb37a314",
   "metadata": {},
   "outputs": [
    {
     "name": "stdout",
     "output_type": "stream",
     "text": [
      "<class 'pandas.core.frame.DataFrame'>\n",
      "RangeIndex: 1000 entries, 0 to 999\n",
      "Data columns (total 11 columns):\n",
      " #   Column                Non-Null Count  Dtype \n",
      "---  ------                --------------  ----- \n",
      " 0   Channel               1000 non-null   object\n",
      " 1   Watch time(Minutes)   1000 non-null   int64 \n",
      " 2   Stream time(minutes)  1000 non-null   int64 \n",
      " 3   Peak viewers          1000 non-null   int64 \n",
      " 4   Average viewers       1000 non-null   int64 \n",
      " 5   Followers             1000 non-null   int64 \n",
      " 6   Followers gained      1000 non-null   int64 \n",
      " 7   Views gained          1000 non-null   int64 \n",
      " 8   Partnered             1000 non-null   bool  \n",
      " 9   Mature                1000 non-null   bool  \n",
      " 10  Language              1000 non-null   object\n",
      "dtypes: bool(2), int64(7), object(2)\n",
      "memory usage: 72.4+ KB\n"
     ]
    }
   ],
   "source": [
    "df.info()"
   ]
  },
  {
   "cell_type": "code",
   "execution_count": 12,
   "id": "adeb18d3",
   "metadata": {},
   "outputs": [
    {
     "data": {
      "text/html": [
       "<div>\n",
       "<style scoped>\n",
       "    .dataframe tbody tr th:only-of-type {\n",
       "        vertical-align: middle;\n",
       "    }\n",
       "\n",
       "    .dataframe tbody tr th {\n",
       "        vertical-align: top;\n",
       "    }\n",
       "\n",
       "    .dataframe thead th {\n",
       "        text-align: right;\n",
       "    }\n",
       "</style>\n",
       "<table border=\"1\" class=\"dataframe\">\n",
       "  <thead>\n",
       "    <tr style=\"text-align: right;\">\n",
       "      <th></th>\n",
       "      <th>Watch time(Minutes)</th>\n",
       "      <th>Stream time(minutes)</th>\n",
       "      <th>Peak viewers</th>\n",
       "      <th>Average viewers</th>\n",
       "      <th>Followers</th>\n",
       "      <th>Followers gained</th>\n",
       "      <th>Views gained</th>\n",
       "    </tr>\n",
       "  </thead>\n",
       "  <tbody>\n",
       "    <tr>\n",
       "      <th>count</th>\n",
       "      <td>1.000000e+03</td>\n",
       "      <td>1000.000000</td>\n",
       "      <td>1000.000000</td>\n",
       "      <td>1000.000000</td>\n",
       "      <td>1.000000e+03</td>\n",
       "      <td>1.000000e+03</td>\n",
       "      <td>1.000000e+03</td>\n",
       "    </tr>\n",
       "    <tr>\n",
       "      <th>mean</th>\n",
       "      <td>4.184279e+08</td>\n",
       "      <td>120515.160000</td>\n",
       "      <td>37065.051000</td>\n",
       "      <td>4781.040000</td>\n",
       "      <td>5.700541e+05</td>\n",
       "      <td>2.055185e+05</td>\n",
       "      <td>1.166817e+07</td>\n",
       "    </tr>\n",
       "    <tr>\n",
       "      <th>std</th>\n",
       "      <td>5.496355e+08</td>\n",
       "      <td>85376.201364</td>\n",
       "      <td>60314.307686</td>\n",
       "      <td>8453.684965</td>\n",
       "      <td>8.044134e+05</td>\n",
       "      <td>3.399137e+05</td>\n",
       "      <td>2.490572e+07</td>\n",
       "    </tr>\n",
       "    <tr>\n",
       "      <th>min</th>\n",
       "      <td>1.221928e+08</td>\n",
       "      <td>3465.000000</td>\n",
       "      <td>496.000000</td>\n",
       "      <td>235.000000</td>\n",
       "      <td>3.660000e+03</td>\n",
       "      <td>-1.577200e+04</td>\n",
       "      <td>1.757880e+05</td>\n",
       "    </tr>\n",
       "    <tr>\n",
       "      <th>25%</th>\n",
       "      <td>1.631899e+08</td>\n",
       "      <td>73758.750000</td>\n",
       "      <td>9113.750000</td>\n",
       "      <td>1457.750000</td>\n",
       "      <td>1.705462e+05</td>\n",
       "      <td>4.375825e+04</td>\n",
       "      <td>3.880602e+06</td>\n",
       "    </tr>\n",
       "    <tr>\n",
       "      <th>50%</th>\n",
       "      <td>2.349908e+08</td>\n",
       "      <td>108240.000000</td>\n",
       "      <td>16676.000000</td>\n",
       "      <td>2425.000000</td>\n",
       "      <td>3.180630e+05</td>\n",
       "      <td>9.835200e+04</td>\n",
       "      <td>6.456324e+06</td>\n",
       "    </tr>\n",
       "    <tr>\n",
       "      <th>75%</th>\n",
       "      <td>4.337399e+08</td>\n",
       "      <td>141843.750000</td>\n",
       "      <td>37569.750000</td>\n",
       "      <td>4786.250000</td>\n",
       "      <td>6.243322e+05</td>\n",
       "      <td>2.361308e+05</td>\n",
       "      <td>1.219676e+07</td>\n",
       "    </tr>\n",
       "    <tr>\n",
       "      <th>max</th>\n",
       "      <td>6.196162e+09</td>\n",
       "      <td>521445.000000</td>\n",
       "      <td>639375.000000</td>\n",
       "      <td>147643.000000</td>\n",
       "      <td>8.938903e+06</td>\n",
       "      <td>3.966525e+06</td>\n",
       "      <td>6.701375e+08</td>\n",
       "    </tr>\n",
       "  </tbody>\n",
       "</table>\n",
       "</div>"
      ],
      "text/plain": [
       "       Watch time(Minutes)  Stream time(minutes)   Peak viewers  \\\n",
       "count         1.000000e+03           1000.000000    1000.000000   \n",
       "mean          4.184279e+08         120515.160000   37065.051000   \n",
       "std           5.496355e+08          85376.201364   60314.307686   \n",
       "min           1.221928e+08           3465.000000     496.000000   \n",
       "25%           1.631899e+08          73758.750000    9113.750000   \n",
       "50%           2.349908e+08         108240.000000   16676.000000   \n",
       "75%           4.337399e+08         141843.750000   37569.750000   \n",
       "max           6.196162e+09         521445.000000  639375.000000   \n",
       "\n",
       "       Average viewers     Followers  Followers gained  Views gained  \n",
       "count      1000.000000  1.000000e+03      1.000000e+03  1.000000e+03  \n",
       "mean       4781.040000  5.700541e+05      2.055185e+05  1.166817e+07  \n",
       "std        8453.684965  8.044134e+05      3.399137e+05  2.490572e+07  \n",
       "min         235.000000  3.660000e+03     -1.577200e+04  1.757880e+05  \n",
       "25%        1457.750000  1.705462e+05      4.375825e+04  3.880602e+06  \n",
       "50%        2425.000000  3.180630e+05      9.835200e+04  6.456324e+06  \n",
       "75%        4786.250000  6.243322e+05      2.361308e+05  1.219676e+07  \n",
       "max      147643.000000  8.938903e+06      3.966525e+06  6.701375e+08  "
      ]
     },
     "execution_count": 12,
     "metadata": {},
     "output_type": "execute_result"
    }
   ],
   "source": [
    "df.describe()"
   ]
  },
  {
   "cell_type": "code",
   "execution_count": 21,
   "id": "e60b8258",
   "metadata": {},
   "outputs": [],
   "source": [
    "dados_de_minutagem = df.groupby(['Channel'])['Stream time(minutes)'].sum().nlargest(8).reset_index()"
   ]
  },
  {
   "cell_type": "code",
   "execution_count": 20,
   "id": "48b0d361",
   "metadata": {},
   "outputs": [
    {
     "data": {
      "text/html": [
       "<div>\n",
       "<style scoped>\n",
       "    .dataframe tbody tr th:only-of-type {\n",
       "        vertical-align: middle;\n",
       "    }\n",
       "\n",
       "    .dataframe tbody tr th {\n",
       "        vertical-align: top;\n",
       "    }\n",
       "\n",
       "    .dataframe thead th {\n",
       "        text-align: right;\n",
       "    }\n",
       "</style>\n",
       "<table border=\"1\" class=\"dataframe\">\n",
       "  <thead>\n",
       "    <tr style=\"text-align: right;\">\n",
       "      <th></th>\n",
       "      <th>Channel</th>\n",
       "      <th>Stream time(minutes)</th>\n",
       "    </tr>\n",
       "  </thead>\n",
       "  <tbody>\n",
       "    <tr>\n",
       "      <th>0</th>\n",
       "      <td>RiffTrax</td>\n",
       "      <td>521445</td>\n",
       "    </tr>\n",
       "    <tr>\n",
       "      <th>1</th>\n",
       "      <td>RelaxBeats</td>\n",
       "      <td>521430</td>\n",
       "    </tr>\n",
       "    <tr>\n",
       "      <th>2</th>\n",
       "      <td>Monstercat</td>\n",
       "      <td>519675</td>\n",
       "    </tr>\n",
       "    <tr>\n",
       "      <th>3</th>\n",
       "      <td>RocketBeansTV</td>\n",
       "      <td>518415</td>\n",
       "    </tr>\n",
       "    <tr>\n",
       "      <th>4</th>\n",
       "      <td>SaltyTeemo</td>\n",
       "      <td>517980</td>\n",
       "    </tr>\n",
       "  </tbody>\n",
       "</table>\n",
       "</div>"
      ],
      "text/plain": [
       "         Channel  Stream time(minutes)\n",
       "0       RiffTrax                521445\n",
       "1     RelaxBeats                521430\n",
       "2     Monstercat                519675\n",
       "3  RocketBeansTV                518415\n",
       "4     SaltyTeemo                517980"
      ]
     },
     "execution_count": 20,
     "metadata": {},
     "output_type": "execute_result"
    }
   ],
   "source": [
    "dados_de_minutagem.head()"
   ]
  },
  {
   "cell_type": "code",
   "execution_count": 30,
   "id": "c2938ca7",
   "metadata": {},
   "outputs": [
    {
     "data": {
      "image/png": "[encoded data removed]",
      "text/plain": [
       "<Figure size 432x288 with 1 Axes>"
      ]
     },
     "metadata": {
      "needs_background": "light"
     },
     "output_type": "display_data"
    }
   ],
   "source": [
    "volume = dados_de_minutagem['Stream time(minutes)']\n",
    "labels = dados_de_minutagem['Channel']\n",
    "\n",
    "l =[]\n",
    "for index in range(len(labels)):\n",
    "    l.append(labels[index]+\"\\n Média em minutos \"+str(volume[index]))\n",
    "\n",
    "plt.rc('font', size=8)\n",
    "squarify.plot(sizes=volume, label=l, pad=True,\n",
    "               alpha=0.7)\n",
    "plt.axis('off')\n",
    "plt.title(\"Twitch\", pad=True, loc='left')\n",
    "plt.show()"
   ]
  },
  {
   "cell_type": "code",
   "execution_count": null,
   "id": "8f216713",
   "metadata": {},
   "outputs": [],
   "source": []
  }
 ],
 "metadata": {
  "kernelspec": {
   "display_name": "Python 3 (ipykernel)",
   "language": "python",
   "name": "python3"
  },
  "language_info": {
   "codemirror_mode": {
    "name": "ipython",
    "version": 3
   },
   "file_extension": ".py",
   "mimetype": "text/x-python",
   "name": "python",
   "nbconvert_exporter": "python",
   "pygments_lexer": "ipython3",
   "version": "3.9.12"
  }
 },
 "nbformat": 4,
 "nbformat_minor": 5
}
